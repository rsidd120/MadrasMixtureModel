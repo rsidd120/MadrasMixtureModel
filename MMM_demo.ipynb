{
 "cells": [
  {
   "cell_type": "markdown",
   "id": "8c6c9c05",
   "metadata": {},
   "source": [
    "### Running MMM from a jupyter session: demo\n",
    "\n",
    "Assuming that `mmm_lib.jl` has been downloaded into a directory MMM"
   ]
  },
  {
   "cell_type": "code",
   "execution_count": 1,
   "id": "23ff31b4",
   "metadata": {},
   "outputs": [],
   "source": [
    "cd(\"MMM\")"
   ]
  },
  {
   "cell_type": "code",
   "execution_count": 2,
   "id": "7e6c844e",
   "metadata": {},
   "outputs": [],
   "source": [
    "using Random, Distributions, SpecialFunctions"
   ]
  },
  {
   "cell_type": "markdown",
   "id": "21588469",
   "metadata": {},
   "source": [
    "In future MMM will be refactored into a proper module with a better user interface. For now, just `include` the file with the main functions"
   ]
  },
  {
   "cell_type": "code",
   "execution_count": 3,
   "id": "77705768",
   "metadata": {},
   "outputs": [
    {
     "data": {
      "text/plain": [
       "clust2labels (generic function with 1 method)"
      ]
     },
     "execution_count": 3,
     "metadata": {},
     "output_type": "execute_result"
    }
   ],
   "source": [
    "include(\"mmm_lib.jl\")"
   ]
  },
  {
   "cell_type": "markdown",
   "id": "2d8338b6",
   "metadata": {},
   "source": [
    "Assuming `datasets` is the directory containing your datasets"
   ]
  },
  {
   "cell_type": "markdown",
   "id": "5e3095e8",
   "metadata": {},
   "source": [
    "`glob` is a set of parameters with reasonable defaults, plus the parsed data. It is an instance of a mutable struct `Params` You can manually set the parameters `c`, `μ₀`, `β₀`, `a₀`, `b₀` (parameters of the Dirichlet and normal-Gamma priors); `beta` (for HMβ); `minclustsize`, `nclust`, `maxnclust`, `niter` if desired. These can also be set from the commandline program. \n",
    "\n",
    "\n",
    "Also, `init_default` takes optional parameters `typestring` (string), `forcefloat` (bool, default false) and `excludelast` (default false).  `initdefault` uses heuristics to infer which columns are categorical and which are numeric, which can be overruled with `typestring`. Setting `forcefloat` to true forces every column to be treated as numeric. Setting `excludelast` to true excludes the last column from clustering (useful when the last column is the output variable, as in this case.)"
   ]
  },
  {
   "cell_type": "code",
   "execution_count": 8,
   "id": "3457e9e6",
   "metadata": {},
   "outputs": [],
   "source": [
    "glob, cl = init_default(\"datasets/diabetes.csv\", excludelast=true);\n"
   ]
  },
  {
   "cell_type": "markdown",
   "id": "edfa739e",
   "metadata": {},
   "source": [
    "Use `iterate_EM_TI!` to use thermodynamic integration instead of HMβ"
   ]
  },
  {
   "cell_type": "code",
   "execution_count": 9,
   "id": "5ba22a67",
   "metadata": {},
   "outputs": [],
   "source": [
    "clusters = iterate_EM_HM!(cl,glob);\n"
   ]
  },
  {
   "cell_type": "markdown",
   "id": "68a3ef9e",
   "metadata": {},
   "source": [
    "Running the commandline program `mmm.jl` gives you an output file containing the labels of the data, one label from row, 1-offset (Julia style). Instead you can obtain the labels with this function"
   ]
  },
  {
   "cell_type": "code",
   "execution_count": 7,
   "id": "bf2153e2",
   "metadata": {},
   "outputs": [
    {
     "data": {
      "text/plain": [
       "768-element Vector{Int64}:\n",
       " 3\n",
       " 3\n",
       " 3\n",
       " 1\n",
       " 4\n",
       " 3\n",
       " 1\n",
       " 3\n",
       " 2\n",
       " 3\n",
       " 3\n",
       " 3\n",
       " 3\n",
       " ⋮\n",
       " 3\n",
       " 3\n",
       " 3\n",
       " 3\n",
       " 1\n",
       " 3\n",
       " 3\n",
       " 2\n",
       " 3\n",
       " 5\n",
       " 3\n",
       " 3"
      ]
     },
     "execution_count": 7,
     "metadata": {},
     "output_type": "execute_result"
    }
   ],
   "source": [
    "labels=clust2labels(clusters,glob)"
   ]
  },
  {
   "cell_type": "code",
   "execution_count": 7,
   "id": "e7aeb9d4",
   "metadata": {},
   "outputs": [
    {
     "data": {
      "text/plain": [
       "0.5"
      ]
     },
     "execution_count": 7,
     "metadata": {},
     "output_type": "execute_result"
    }
   ],
   "source": []
  },
  {
   "cell_type": "code",
   "execution_count": null,
   "id": "52fe2cb2",
   "metadata": {},
   "outputs": [],
   "source": []
  }
 ],
 "metadata": {
  "kernelspec": {
   "display_name": "Julia 1.10.0",
   "language": "julia",
   "name": "julia-1.10"
  },
  "language_info": {
   "file_extension": ".jl",
   "mimetype": "application/julia",
   "name": "julia",
   "version": "1.10.0"
  }
 },
 "nbformat": 4,
 "nbformat_minor": 5
}
